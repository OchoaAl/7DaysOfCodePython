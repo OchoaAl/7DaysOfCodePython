{
  "nbformat": 4,
  "nbformat_minor": 0,
  "metadata": {
    "colab": {
      "provenance": []
    },
    "kernelspec": {
      "name": "python3",
      "display_name": "Python 3"
    },
    "language_info": {
      "name": "python"
    }
  },
  "cells": [
    {
      "cell_type": "markdown",
      "source": [
        "# **La intención de este Google collab es realizar un 7 days of code para reforzar los conocimientos en python de los módulos 1 y 2.**"
      ],
      "metadata": {
        "id": "DCMC_csb3zm5"
      }
    },
    {
      "cell_type": "markdown",
      "source": [
        "# Día 1: Explorando funciones integradas\n",
        "Objetivo: Entender las funciones integradas y su utilidad.\n",
        "\n",
        "Desafío:\n",
        "1.   Crea un programa que reciba una lista de números (separados por comas).\n",
        "2.   Use funciones integradas como sum(), max(), min() y len().\n",
        "3.   Devuelva un pequeño resumen: total, promedio, mayor y menor número."
      ],
      "metadata": {
        "id": "SCGwszaz4Ib0"
      }
    },
    {
      "cell_type": "code",
      "source": [
        "entrada = input(\"Ingresa los números separados por comas: \")\n",
        "lista = [float(x) for x in entrada.split(\",\")]\n",
        "#lista = [10, 7.6, 8.3, 9.5, 8.8]\n",
        "promedio = sum(lista)/len(lista)\n",
        "\n",
        "print(f'Promedio: {promedio}')\n",
        "print(f'El valor más alto de la lista es: {max(lista)}')\n",
        "print(f'El valor más bajo de la lista es: {min(lista)}')\n",
        "\n"
      ],
      "metadata": {
        "colab": {
          "base_uri": "https://localhost:8080/"
        },
        "id": "bsqhO8HN4HqW",
        "outputId": "e1c717c9-5e37-467d-dcf8-9c62cddf94a3"
      },
      "execution_count": null,
      "outputs": [
        {
          "output_type": "stream",
          "name": "stdout",
          "text": [
            "Ingresa los números separados por comas: 10,7.8,5.5,8.9\n",
            "Promedio: 8.05\n",
            "El valor más alto de la lista es: 10.0\n",
            "El valor más bajo de la lista es: 5.5\n"
          ]
        }
      ]
    },
    {
      "cell_type": "markdown",
      "source": [
        "## Día 2: Crea tus propias funciones\n",
        "Objetivo: Definir funciones personalizadas.\n",
        "\n",
        "Desafío:\n",
        "\n",
        "1.   Escribe una función es_palindromo(palabra) que determine si una palabra es un palíndromo (se lee igual al derecho y al revés).\n",
        "2.   Luego, permite al usuario ingresar palabras hasta que escriba \"salir\"."
      ],
      "metadata": {
        "id": "cyraBW8848Gw"
      }
    },
    {
      "cell_type": "code",
      "source": [
        "def es_palindromo(palabra):\n",
        "  #Convertimos la palabra a mayúsculas para tener coincidencias sin preocuparnos de si son mayúsculas o no\n",
        "  palabra_mayus = palabra.upper()\n",
        "  #Además, quitamos los acentos de la palabra para comparar mejor los caracteres\n",
        "  palabra_mayus = palabra_mayus.replace(\"Á\",\"A\")\n",
        "  palabra_mayus = palabra_mayus.replace(\"É\",\"E\")\n",
        "  palabra_mayus = palabra_mayus.replace(\"Í\",\"I\")\n",
        "  palabra_mayus = palabra_mayus.replace(\"Ó\",\"O\")\n",
        "  palabra_mayus = palabra_mayus.replace(\"Ú\",\"U\")\n",
        "\n",
        "  a = 0\n",
        "  b = len(palabra_mayus)-1\n",
        "\n",
        "  for i in range(0,len(palabra)):\n",
        "    if palabra_mayus[a] == palabra_mayus[b]:\n",
        "      a += 1\n",
        "      b -= 1\n",
        "    else:\n",
        "      return False\n",
        "\n",
        "  return True\n",
        "\n",
        "palabra = input(\"Inserte una palabra para determinar si es un palíndromo o no o escriba salir si desea detener la ejecución: \")\n",
        "while palabra.lower() != \"salir\":\n",
        "  if es_palindromo(palabra):\n",
        "    print(f'Es palíndromo')\n",
        "  else:\n",
        "    print(f'No es palíndromo')\n",
        "\n",
        "  palabra = input(\"Inserte una palabra para determinar si es un palíndromo o no o escriba salir si desea detener la ejecución: \")"
      ],
      "metadata": {
        "id": "ebpsn10148fi",
        "colab": {
          "base_uri": "https://localhost:8080/"
        },
        "outputId": "cd559db7-16f1-4663-aa12-da13812969cf"
      },
      "execution_count": 43,
      "outputs": [
        {
          "name": "stdout",
          "output_type": "stream",
          "text": [
            "Inserte una palabra para determinar si es un palíndromo o no o escriba salir si desea detener la ejecución: Ana\n",
            "Es palíndromo\n",
            "Inserte una palabra para determinar si es un palíndromo o no o escriba salir si desea detener la ejecución: salir\n"
          ]
        }
      ]
    },
    {
      "cell_type": "markdown",
      "source": [
        "### Ejercicio: Validador de acceso a un sistema\n",
        "\n",
        "Un sistema de acceso tiene los siguientes requisitos para permitir la entrada de un usuario:\n",
        "\n",
        "\n",
        "*   La contraseña debe tener **al menos** 8 caracteres\n",
        "*   El nombre de usuario no debe estar en la lista de **usuarios bloqueados**\n",
        "*   El usuario puede acceder solo si tiene una **contraseña válida** y **no está bloqueado**\n",
        "\n",
        "Sin embargo, si el usuario escribe **\"admin\"** como usuario, puede entrar aunque la contraseña tenga menos de 8 caracteres\n",
        "\n",
        "Tu reto:\n",
        "\n",
        "Escribe un programa que pida al usuario que ingrese su nombre de usuario y contraseña, y determine si puede acceder o no, mostrando un mensaje adecuado.\n",
        "\n",
        "Sugerencia:\n",
        "\n",
        "Puedes usar listas para simular los usuarios bloqueados, por ejemplo:\n",
        "\n",
        "        usuarios_bloqueados = [\"maria123\", \"juan_perez\", \"hacker007\"]\n",
        "\n",
        "Casos esperados:\n",
        "\n",
        "Usuario: \"admin\", Contraseña: \"123\" → ✅ Puede entrar (es admin)\n",
        "\n",
        "\n",
        "*   Usuario: \"juan_perez\", Contraseña: \"contraseñalarga\" → ❌ No puede entrar (está bloqueado)\n",
        "*   Usuario: \"carla\", Contraseña: \"short\" → ❌ No puede entrar (contraseña corta)\n",
        "*   Usuario: \"carla\", Contraseña: \"contrasenasegura\" → ✅ Puede entrar"
      ],
      "metadata": {
        "id": "WDeMPlAlTIjy"
      }
    },
    {
      "cell_type": "code",
      "source": [],
      "metadata": {
        "id": "80PkGrhrSyPq"
      },
      "execution_count": null,
      "outputs": []
    },
    {
      "cell_type": "markdown",
      "source": [
        "## Día 3: Estructuras de datos compuestas\n",
        "Objetivo: Trabajar con listas de diccionarios o diccionarios anidados.\n",
        "\n",
        "Desafío:\n",
        "Crea un programa que almacene una lista de estudiantes, donde cada estudiante es un diccionario con nombre, edad y carrera.\n",
        "\n",
        "Permite:\n",
        "1.   Agregar estudiantes\n",
        "2.   Ver todos los datos registrados"
      ],
      "metadata": {
        "id": "pCDQyyym4-MH"
      }
    },
    {
      "cell_type": "code",
      "source": [],
      "metadata": {
        "id": "X2loGTnQ4-WD"
      },
      "execution_count": null,
      "outputs": []
    },
    {
      "cell_type": "markdown",
      "source": [
        "## Día 4: List & dict comprehension\n",
        "Objetivo: Construir estructuras a partir de patrones.\n",
        "\n",
        "Desafío:\n",
        "Dada una lista de números del 1 al 10:\n",
        "\n",
        "\n",
        "1.   Usa list comprehension para crear una lista de sus cuadrados.\n",
        "2.   Luego, crea un dict comprehension que relacione cada número con su valor booleano de si es par (True si lo es)."
      ],
      "metadata": {
        "id": "lURbFe745B0S"
      }
    },
    {
      "cell_type": "code",
      "source": [],
      "metadata": {
        "id": "gqB-rWG95B7z"
      },
      "execution_count": null,
      "outputs": []
    },
    {
      "cell_type": "markdown",
      "source": [
        "## Día 5: Manejo de errores - try/except\n",
        "Objetivo: Manejar errores básicos en la ejecución.\n",
        "\n",
        "Desafío:\n",
        "Pide al usuario ingresar dos números y una operación (+, -, *, /).\n",
        "\n",
        "Utiliza try/except para:\n",
        "\n",
        "1.   Evitar errores si el usuario ingresa texto en lugar de números\n",
        "2.   Prevenir división por cero\n",
        "3.   Agrega mensajes personalizados de error."
      ],
      "metadata": {
        "id": "h-4vu3Gj5FRn"
      }
    },
    {
      "cell_type": "code",
      "source": [],
      "metadata": {
        "id": "tD8t8Ylc5FYZ"
      },
      "execution_count": null,
      "outputs": []
    },
    {
      "cell_type": "markdown",
      "source": [
        "## Día 6: Funciones y validaciones\n",
        "Objetivo: Combinar funciones con manejo de errores.\n",
        "\n",
        "Desafío:\n",
        "\n",
        "Haz una función dividir(a, b) que:\n",
        "\n",
        "1.   Retorne el resultado\n",
        "2.   Lance una excepción personalizada si b es cero Luego, pide al usuario dos números y utiliza esa función dentro de un bloque try/except."
      ],
      "metadata": {
        "id": "22mlDa2M5JBx"
      }
    },
    {
      "cell_type": "code",
      "source": [],
      "metadata": {
        "id": "5saOfaJa5JKW"
      },
      "execution_count": null,
      "outputs": []
    },
    {
      "cell_type": "markdown",
      "source": [
        "## Día 7: Proyecto mini – Registro de tareas\n",
        "Objetivo: Usar funciones, estructuras compuestas, comprensión y manejo de errores.\n",
        "\n",
        "Desafío:\n",
        "Crea un sistema simple de tareas pendientes:\n",
        "\n",
        "\n",
        "1.   Cada tarea tiene: nombre, prioridad y estado\n",
        "2.   Usa un menú para agregar, ver o marcar tareas como completadas\n",
        "3.   Guarda las tareas en una lista de diccionarios\n",
        "4.   Usa list comprehension para mostrar solo las tareas pendientes"
      ],
      "metadata": {
        "id": "2FuXQmZB6YO7"
      }
    },
    {
      "cell_type": "code",
      "source": [],
      "metadata": {
        "id": "siXm84t06YW1"
      },
      "execution_count": null,
      "outputs": []
    }
  ]
}